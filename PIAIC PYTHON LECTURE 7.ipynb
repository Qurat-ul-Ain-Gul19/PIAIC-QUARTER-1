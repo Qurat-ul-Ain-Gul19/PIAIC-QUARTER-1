{
 "cells": [
  {
   "cell_type": "markdown",
   "metadata": {},
   "source": [
    "#                     LEVELS OF PROGRAMMING\n",
    "\n",
    "a)LOW LEVEL LANGUAGE\n",
    "    Binary language\n",
    "    (RUST,C NEAREST TO MACHINE LANGUAGE)\n",
    "    \n",
    "b)MIDDLE LEVEL LANGUAGUAGE\n",
    "    Assembly language,c++\n",
    "    \n",
    "c)HIGH LANGUAGE\n",
    "    Python(interpreted language) slow but becomes fast bcz of its\n",
    "    diff for machine to interpret\n",
    "    \n",
    "INTERPRETOR AND COMPILERS\n"
   ]
  },
  {
   "cell_type": "markdown",
   "metadata": {},
   "source": [
    "                       Paradigms of Programming\n",
    "Linear programming\n",
    "->fast\n",
    "->line by line\n",
    "\n",
    "Functional/Structural Programming\n",
    "->structured blocks (while,do while,for loop,if_else,switch)\n",
    "\n",
    "Object Oriented Programming\n",
    "-> To solve real world problems classification was done\n",
    "->anything having a name in the world is an object\n",
    "    1)Methods(functions,actions,behaviours)\n",
    "    2)Attributes(values,propeties,feilds)\n",
    "->all those objects having similar behaviours and attributes are placed in one class\n",
    "->reuseability"
   ]
  },
  {
   "cell_type": "markdown",
   "metadata": {},
   "source": [
    "# PILLARS OF OOP"
   ]
  },
  {
   "cell_type": "code",
   "execution_count": null,
   "metadata": {},
   "outputs": [],
   "source": [
    "a)Inheretance\n",
    "b)Polymorphism\n",
    "c)Encapsulation\n",
    "d)Abstraction(incomplete)"
   ]
  },
  {
   "cell_type": "code",
   "execution_count": null,
   "metadata": {},
   "outputs": [],
   "source": [
    "    \n",
    "2.Inheritance.\n",
    "    a.Anthing which you have got from your ansestors\n",
    "    b.Multiple inheritance is possible in python.\n",
    "    c.mermaid,mule\n",
    "    d.a+b=parents\n",
    "      c=child\n",
    "        \n",
    "3.Polymorphism(more than one).\n",
    "    any object having more than one behaviour\n",
    "    a.OVERLOADING\n",
    "     same class , one function more than one time made\n",
    "        MAY DIFFER IN THE FOLLOWING ASPECTS:\n",
    "            1.no of arguments may vary\n",
    "            2.sequence of argument may vary\n",
    "            3.data type may vary\n",
    "    \n",
    "    b.OVERRIDING\n",
    "     function wd same name inherited from parents , present in both but with a difference\n",
    "        some diffrence in child class\n",
    "    \n",
    "4.Encapsulation.\n",
    "    some attributes of class are made private\n",
    "    direct adress from object is not possible\n",
    "    GETTER(value assessor)\n",
    "    SETTER(value update)\n",
    "\n",
    "5.Abstraction.\n",
    "    a.INCOMPLETE CLASS WHOSE OBJECT CANT BE MADE\n",
    "    class whose object cant be made in a heirarchy of classes\n",
    "    neither their functions nor attributes can be assessed directly :abstract class\n",
    "        a.General class\n",
    "        b.Sub class"
   ]
  },
  {
   "cell_type": "code",
   "execution_count": null,
   "metadata": {},
   "outputs": [],
   "source": [
    "attributes r pre default public "
   ]
  },
  {
   "cell_type": "code",
   "execution_count": 52,
   "metadata": {},
   "outputs": [],
   "source": [
    "class Student():\n",
    "    counter = 0                     #class variable\n",
    "    def __init__(self, sid):        #self=can be named aything (this)...indivisual memory allocation for each object formed\n",
    "        self.sid=sid                #on calling constructor atleast one parameter\n",
    "        self.name=\"\"\n",
    "        self.fname=\"\"               #ATTRIBUTES,PROPERTIES,DATA MEMBERS,STATES,FEILDS,OBJECT VARIABLE\n",
    "        self.course=\"\"\n",
    "        self.fee=0\n",
    "        Student.counter+=1           #to acess or update class name along with variable \n",
    "        self.user=\"\"\n",
    "        \n",
    "    def login(self,user_name,password):                 #METHODS,FUNCTIONS,ACTIONS\n",
    "        print(\"WELCOME\",self.user)                         #means to ignore it....for exception handling\n",
    "        self.user=user_name\n",
    "        \n",
    "    def quiz(self):\n",
    "        pass\n",
    "    \n",
    "    def logout(self):\n",
    "        pass\n",
    "s1 = Student(1)            #counter=1\n",
    "s3 = Student(3)            #counter=2"
   ]
  },
  {
   "cell_type": "code",
   "execution_count": 53,
   "metadata": {},
   "outputs": [
    {
     "name": "stdout",
     "output_type": "stream",
     "text": [
      "\n"
     ]
    }
   ],
   "source": [
    "print(s1.name)"
   ]
  },
  {
   "cell_type": "code",
   "execution_count": 54,
   "metadata": {},
   "outputs": [
    {
     "name": "stdout",
     "output_type": "stream",
     "text": [
      "taha\n"
     ]
    }
   ],
   "source": [
    "s1.name=\"taha\"\n",
    "print(s1.name)"
   ]
  },
  {
   "cell_type": "code",
   "execution_count": 55,
   "metadata": {},
   "outputs": [
    {
     "name": "stdout",
     "output_type": "stream",
     "text": [
      "3\n"
     ]
    }
   ],
   "source": [
    "\n",
    "print(s3.sid)"
   ]
  },
  {
   "cell_type": "code",
   "execution_count": 56,
   "metadata": {},
   "outputs": [
    {
     "data": {
      "text/plain": [
       "2"
      ]
     },
     "execution_count": 56,
     "metadata": {},
     "output_type": "execute_result"
    }
   ],
   "source": [
    "s1.counter"
   ]
  },
  {
   "cell_type": "code",
   "execution_count": 57,
   "metadata": {},
   "outputs": [
    {
     "data": {
      "text/plain": [
       "2"
      ]
     },
     "execution_count": 57,
     "metadata": {},
     "output_type": "execute_result"
    }
   ],
   "source": [
    "Student.counter"
   ]
  },
  {
   "cell_type": "code",
   "execution_count": 64,
   "metadata": {},
   "outputs": [
    {
     "name": "stdout",
     "output_type": "stream",
     "text": [
      "WELCOME qasim\n"
     ]
    }
   ],
   "source": [
    "s1.login(\"qasim\",1)"
   ]
  },
  {
   "cell_type": "code",
   "execution_count": 59,
   "metadata": {},
   "outputs": [
    {
     "name": "stdout",
     "output_type": "stream",
     "text": [
      "abcd\n"
     ]
    }
   ],
   "source": [
    "s1.DOB = \"abcd\"\n",
    "print(s1.DOB)"
   ]
  },
  {
   "cell_type": "code",
   "execution_count": 62,
   "metadata": {},
   "outputs": [],
   "source": [
    "del s1.DOB"
   ]
  },
  {
   "cell_type": "markdown",
   "metadata": {},
   "source": [
    "# INHERITANCE"
   ]
  },
  {
   "cell_type": "code",
   "execution_count": 68,
   "metadata": {},
   "outputs": [],
   "source": [
    "class parent():\n",
    "    def __init__(self):\n",
    "        self.name=\"\"\n",
    "        self.fname=\"\"              # pep 8 naming convention\n",
    "    \n",
    "    def speak(self,words=\"\"):\n",
    "        print(words,\".....\")\n",
    "        \n",
    "    def eat(self,food=\"pizza\"):\n",
    "        print(food)\n",
    "        \n",
    "class child(parent):\n",
    "    pass"
   ]
  },
  {
   "cell_type": "code",
   "execution_count": 69,
   "metadata": {},
   "outputs": [
    {
     "name": "stdout",
     "output_type": "stream",
     "text": [
      "abc\n",
      "\n"
     ]
    }
   ],
   "source": [
    "pobj  = parent()\n",
    "pobj.name = \"abc\"\n",
    "print(pobj.name)\n",
    "pobj.fname=\"xyz\"\n",
    "print()"
   ]
  },
  {
   "cell_type": "code",
   "execution_count": 71,
   "metadata": {},
   "outputs": [
    {
     "name": "stdout",
     "output_type": "stream",
     "text": [
      "pakistan zindabad .....\n"
     ]
    }
   ],
   "source": [
    "cobj = child()\n",
    "cobj.speak(\"pakistan zindabad\")"
   ]
  },
  {
   "cell_type": "code",
   "execution_count": 84,
   "metadata": {},
   "outputs": [
    {
     "name": "stdout",
     "output_type": "stream",
     "text": [
      "speaks from father .....!\n"
     ]
    }
   ],
   "source": [
    "class father():\n",
    "        def __init__(self,name,height,words):\n",
    "            self.name=\"\"\n",
    "            self.height=10\n",
    "            words=\"\"\n",
    "    \n",
    "        def speak(self,words=\"\"):\n",
    "            print(words,\"from father .....!\")\n",
    "        \n",
    "class mother():\n",
    "        def __init__(self,name,age,words):\n",
    "            self.name=\"\"\n",
    "            self.age=50\n",
    "            words=\"\"\n",
    "        \n",
    "        def speak(self,words=\"\"):\n",
    "            print(words,\"from mother.....\")\n",
    "        \n",
    "class child(father,mother):\n",
    "    pass\n",
    "\n",
    "cobj=child(20,30,\"def\")\n",
    "cobj.speak(\"speaks\")"
   ]
  },
  {
   "cell_type": "markdown",
   "metadata": {},
   "source": [
    "# POLYMORPHISM"
   ]
  },
  {
   "cell_type": "markdown",
   "metadata": {},
   "source": [
    "# FUNCTION OVERLOADING"
   ]
  },
  {
   "cell_type": "code",
   "execution_count": 96,
   "metadata": {},
   "outputs": [
    {
     "name": "stdout",
     "output_type": "stream",
     "text": [
      "4\n"
     ]
    }
   ],
   "source": [
    "class A():\n",
    "    def abc(self,*n):\n",
    "        print(sum(self.n))\n",
    "    def abc(self,a):\n",
    "        print(a)\n",
    "    def abc(self,a=\"\",b=\"\"):\n",
    "        print(a+b)\n",
    "    \n",
    "obj1=A()\n",
    "obj1.abc(1,3)"
   ]
  },
  {
   "cell_type": "code",
   "execution_count": 93,
   "metadata": {},
   "outputs": [
    {
     "ename": "SyntaxError",
     "evalue": "invalid syntax (<ipython-input-93-1493f2088a31>, line 5)",
     "output_type": "error",
     "traceback": [
      "\u001b[1;36m  File \u001b[1;32m\"<ipython-input-93-1493f2088a31>\"\u001b[1;36m, line \u001b[1;32m5\u001b[0m\n\u001b[1;33m    obj2 = B()\u001b[0m\n\u001b[1;37m       ^\u001b[0m\n\u001b[1;31mSyntaxError\u001b[0m\u001b[1;31m:\u001b[0m invalid syntax\n"
     ]
    }
   ],
   "source": [
    "class B():\n",
    "    def abc(self,*n):\n",
    "        print(sum(self.n)\n",
    "    \n",
    "obj2 = B()\n",
    "obj2.abc(1,3,4,5)"
   ]
  },
  {
   "cell_type": "markdown",
   "metadata": {},
   "source": [
    "# FUNCTION OVERRIDING"
   ]
  },
  {
   "cell_type": "code",
   "execution_count": 95,
   "metadata": {},
   "outputs": [
    {
     "data": {
      "text/plain": [
       "<bound method B.speak of <__main__.B object at 0x0000019564B85F98>>"
      ]
     },
     "execution_count": 95,
     "metadata": {},
     "output_type": "execute_result"
    }
   ],
   "source": [
    "class A():\n",
    "    def speak(self):\n",
    "        print(\"speak of A\")\n",
    "class B(A):\n",
    "    def speak(self):\n",
    "        print(\"speak of B\")\n",
    "obj=B()\n",
    "obj.speak"
   ]
  },
  {
   "cell_type": "code",
   "execution_count": null,
   "metadata": {},
   "outputs": [],
   "source": []
  }
 ],
 "metadata": {
  "kernelspec": {
   "display_name": "Python 3",
   "language": "python",
   "name": "python3"
  },
  "language_info": {
   "codemirror_mode": {
    "name": "ipython",
    "version": 3
   },
   "file_extension": ".py",
   "mimetype": "text/x-python",
   "name": "python",
   "nbconvert_exporter": "python",
   "pygments_lexer": "ipython3",
   "version": "3.7.3"
  }
 },
 "nbformat": 4,
 "nbformat_minor": 2
}
