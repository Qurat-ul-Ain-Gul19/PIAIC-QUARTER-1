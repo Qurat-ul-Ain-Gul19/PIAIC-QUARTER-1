{
 "cells": [
  {
   "cell_type": "markdown",
   "metadata": {},
   "source": [
    "# FUNCTIONS"
   ]
  },
  {
   "cell_type": "raw",
   "metadata": {},
   "source": [
    "set of statements...instructions at the backend...\n",
    "combined together to avoid repetition\n",
    "single name to a lot of instructions"
   ]
  },
  {
   "cell_type": "code",
   "execution_count": null,
   "metadata": {},
   "outputs": [],
   "source": [
    "TYPES:\n",
    "a) USER DEFINED                  (ARGUMENT:while calling a function)\n",
    "b) PRE DEFINED                   (PARAMETER:while defining a function)"
   ]
  },
  {
   "cell_type": "code",
   "execution_count": null,
   "metadata": {},
   "outputs": [],
   "source": [
    "DEFAULT FUNCTION: A function that takes no arguments while calling\n",
    "    =today();date\n",
    "    =now():time"
   ]
  },
  {
   "cell_type": "raw",
   "metadata": {},
   "source": [
    "1.REQUIRED ARGUMENT FUNCTION  (which doesnt work without arguments): car movement,fuel=argument...shadi function\n",
    "2.DEFAULT ARGUMENT FUNCTION  (if u provide argument ,well & good otherwise it can execute by its own) \n",
    "3.RECURSIVE FUNCTION  (A function that calls itself in its body) infinite loop\n",
    "4.GENERATOR FUNCTION  (when called doesnt directly allocates in memory...step by step takes the members and allocates \n",
    "in memory) ...remembers its previous values.like no / by 5,10,15...\n",
    "remembers 150\n",
    "Range Function\n",
    "5.LAMBDA FUNCTION  (Single line function,without name function..neither used before nor after)\n",
    "6.POSITIONAL ARGUMENT   (role of position is imp...sequence/order to be kept in mind)\n",
    "7.KEYWORD ARGUMENT   (position doesnt matters,,,directly assigns values to the arguments)\n",
    "8.ARGUMENT WITH LIST  (L[0],L[1])  *LISTNAME..unzip argument...single argument from list \n",
    "is being passed as positional argument\n",
    "9.ARGUMENT WITH DICTIONARY  ** NAME....keyword argument..key,value passed in function"
   ]
  },
  {
   "cell_type": "markdown",
   "metadata": {},
   "source": [
    "# PRE DEFINED FUNCTION"
   ]
  },
  {
   "cell_type": "code",
   "execution_count": 1,
   "metadata": {},
   "outputs": [
    {
     "name": "stdout",
     "output_type": "stream",
     "text": [
      "abc\n",
      "3\n",
      "<class 'int'>\n",
      "2402709050568\n"
     ]
    }
   ],
   "source": [
    "print(\"abc\")\n",
    "print(len(\"123\"))\n",
    "print(type(22))\n",
    "print(id(\"aa\"))"
   ]
  },
  {
   "cell_type": "markdown",
   "metadata": {},
   "source": [
    "# USER DEFINED FUNCTION"
   ]
  },
  {
   "cell_type": "code",
   "execution_count": null,
   "metadata": {},
   "outputs": [],
   "source": [
    "1.LINEAR PROGRAMMING                       one line for each statement,fast,non-efficient\n",
    "2.FUNCTIONAL/PROCEDURAL PROGRAMMING        lines of code reduced,but slow"
   ]
  },
  {
   "cell_type": "code",
   "execution_count": 2,
   "metadata": {},
   "outputs": [
    {
     "name": "stdout",
     "output_type": "stream",
     "text": [
      "we are pakistani\n",
      "we love our country\n",
      "pakistan zindabad\n"
     ]
    }
   ],
   "source": [
    "print(\"we are pakistani\")\n",
    "print(\"we love our country\")\n",
    "print(\"pakistan zindabad\")"
   ]
  },
  {
   "cell_type": "code",
   "execution_count": 3,
   "metadata": {},
   "outputs": [
    {
     "name": "stdout",
     "output_type": "stream",
     "text": [
      "we are pakistani\n",
      "we love our country\n",
      "pakistan zindabad\n"
     ]
    }
   ],
   "source": [
    "def abc():                 #default function\n",
    "    print(\"we are pakistani\")\n",
    "    print(\"we love our country\")                \n",
    "    print(\"pakistan zindabad\")\n",
    "    \n",
    "abc()     #function calling"
   ]
  },
  {
   "cell_type": "code",
   "execution_count": 5,
   "metadata": {},
   "outputs": [
    {
     "name": "stdout",
     "output_type": "stream",
     "text": [
      "we are pakistani\n",
      "we love our country\n",
      "pakistan zindabad\n",
      "MS\n",
      "calling\n",
      "we are pakistani\n",
      "we love our country\n",
      "pakistan zindabad\n"
     ]
    }
   ],
   "source": [
    "abc()\n",
    "print(\"MS\")\n",
    "print(\"calling\")\n",
    "abc()"
   ]
  },
  {
   "cell_type": "markdown",
   "metadata": {},
   "source": [
    "# REQUIRED ARGUMENTS"
   ]
  },
  {
   "cell_type": "code",
   "execution_count": 2,
   "metadata": {},
   "outputs": [
    {
     "name": "stdout",
     "output_type": "stream",
     "text": [
      "\n",
      "    PIAIC ISLAMABAD\n",
      "    id:1\n",
      "    Name:ali\n",
      "    Father's Name:hamza\n",
      "    Course:AI\n",
      "    timing:9 to 12\n",
      "    \n",
      "\n",
      "    PIAIC ISLAMABAD\n",
      "    id:2\n",
      "    Name:mubashir\n",
      "    Father's Name:sultan\n",
      "    Course:Aero\n",
      "    timing:3 to 12\n",
      "    \n"
     ]
    }
   ],
   "source": [
    "def id_card(sid,sname,fname,course,timing):\n",
    "    text=\"\"\"\n",
    "    PIAIC ISLAMABAD\n",
    "    id:{}\n",
    "    Name:{}\n",
    "    Father's Name:{}\n",
    "    Course:{}\n",
    "    timing:{}\n",
    "    \"\"\".format(sid,sname,fname,course,timing)\n",
    "    print(text)\n",
    "\n",
    "id_card(1,\"ali\",\"hamza\",\"AI\",'9 to 12')\n",
    "id_card(2,\"mubashir\",\"sultan\",\"Aero\",\"3 to 12\")"
   ]
  },
  {
   "cell_type": "code",
   "execution_count": 3,
   "metadata": {},
   "outputs": [
    {
     "name": "stdout",
     "output_type": "stream",
     "text": [
      "\n",
      "    PIAIC ISLAMABAD\n",
      "    id:1\n",
      "    Name:qasim\n",
      "    Father's Name:arshad\n",
      "    Course:A.I\n",
      "    timing:9 to 12\n",
      "    \n",
      "\n",
      "    PIAIC ISLAMABAD\n",
      "    id:2\n",
      "    Name:mubashir\n",
      "    Father's Name:sultan\n",
      "    Course:AERO\n",
      "    timing: 3 t0 12\n",
      "    \n"
     ]
    }
   ],
   "source": [
    "data= [[1,\"qasim\",\"arshad\",\"A.I\",\"9 to 12\"],\n",
    "      [2,\"mubashir\",\"sultan\",\"AERO\",\" 3 t0 12\"]]\n",
    "for v in data:\n",
    "    #id_card(v[0],v[1],v[2],v[3],v[4])\n",
    "     id_card(*v)\n"
   ]
  },
  {
   "cell_type": "markdown",
   "metadata": {},
   "source": [
    "# OPTIONAL ARGUMENTS"
   ]
  },
  {
   "cell_type": "code",
   "execution_count": 29,
   "metadata": {},
   "outputs": [
    {
     "name": "stdout",
     "output_type": "stream",
     "text": [
      "5 0 0\n",
      "5\n"
     ]
    }
   ],
   "source": [
    "def abc(x, y=0, z=0):    x=required argument...y,z=optional arguments\n",
    "    print(x,y,z)\n",
    "    print(x+y+z)\n",
    "\n",
    "abc(5)"
   ]
  },
  {
   "cell_type": "code",
   "execution_count": 30,
   "metadata": {},
   "outputs": [
    {
     "name": "stdout",
     "output_type": "stream",
     "text": [
      "5 7 0\n",
      "12\n"
     ]
    }
   ],
   "source": [
    "abc(5,7)"
   ]
  },
  {
   "cell_type": "code",
   "execution_count": 32,
   "metadata": {},
   "outputs": [
    {
     "name": "stdout",
     "output_type": "stream",
     "text": [
      "1 2 3\n",
      "6\n"
     ]
    }
   ],
   "source": [
    "abc(1,2,3)"
   ]
  },
  {
   "cell_type": "code",
   "execution_count": 31,
   "metadata": {},
   "outputs": [
    {
     "ename": "TypeError",
     "evalue": "abc() missing 1 required positional argument: 'x'",
     "output_type": "error",
     "traceback": [
      "\u001b[1;31m---------------------------------------------------------------------------\u001b[0m",
      "\u001b[1;31mTypeError\u001b[0m                                 Traceback (most recent call last)",
      "\u001b[1;32m<ipython-input-31-79c8afb7007d>\u001b[0m in \u001b[0;36m<module>\u001b[1;34m\u001b[0m\n\u001b[1;32m----> 1\u001b[1;33m \u001b[0mabc\u001b[0m\u001b[1;33m(\u001b[0m\u001b[1;33m)\u001b[0m\u001b[1;33m\u001b[0m\u001b[1;33m\u001b[0m\u001b[0m\n\u001b[0m",
      "\u001b[1;31mTypeError\u001b[0m: abc() missing 1 required positional argument: 'x'"
     ]
    }
   ],
   "source": [
    "abc()"
   ]
  },
  {
   "cell_type": "markdown",
   "metadata": {},
   "source": [
    "# RETURN AND NON RETURN FUNCTION"
   ]
  },
  {
   "cell_type": "code",
   "execution_count": null,
   "metadata": {},
   "outputs": [],
   "source": [
    "a) return function ...whose result can be further assigened to anyother variable\n",
    "b) non return function ...whose result cant be further assigened to anyother variable"
   ]
  },
  {
   "cell_type": "code",
   "execution_count": 36,
   "metadata": {},
   "outputs": [
    {
     "name": "stdout",
     "output_type": "stream",
     "text": [
      "paksitan\n",
      "None\n"
     ]
    }
   ],
   "source": [
    "abc=print(\"paksitan\")\n",
    "print(abc)             #NON RETURN FUNCTION"
   ]
  },
  {
   "cell_type": "code",
   "execution_count": 37,
   "metadata": {},
   "outputs": [
    {
     "ename": "TypeError",
     "evalue": "'NoneType' object is not callable",
     "output_type": "error",
     "traceback": [
      "\u001b[1;31m---------------------------------------------------------------------------\u001b[0m",
      "\u001b[1;31mTypeError\u001b[0m                                 Traceback (most recent call last)",
      "\u001b[1;32m<ipython-input-37-7857cb9670bd>\u001b[0m in \u001b[0;36m<module>\u001b[1;34m\u001b[0m\n\u001b[1;32m----> 1\u001b[1;33m \u001b[0mx\u001b[0m\u001b[1;33m=\u001b[0m\u001b[0mabc\u001b[0m\u001b[1;33m(\u001b[0m\u001b[1;36m1\u001b[0m\u001b[1;33m,\u001b[0m\u001b[1;36m2\u001b[0m\u001b[1;33m,\u001b[0m\u001b[1;36m3\u001b[0m\u001b[1;33m)\u001b[0m\u001b[1;33m\u001b[0m\u001b[1;33m\u001b[0m\u001b[0m\n\u001b[0m\u001b[0;32m      2\u001b[0m \u001b[0mx\u001b[0m\u001b[1;33m\u001b[0m\u001b[1;33m\u001b[0m\u001b[0m\n",
      "\u001b[1;31mTypeError\u001b[0m: 'NoneType' object is not callable"
     ]
    }
   ],
   "source": [
    "x=abc(1,2,3)    #NON RETURN FUNCTION\n",
    "x"
   ]
  },
  {
   "cell_type": "code",
   "execution_count": 38,
   "metadata": {},
   "outputs": [
    {
     "name": "stdout",
     "output_type": "stream",
     "text": [
      "\n",
      "    PIAIC ISLAMABAD\n",
      "    id:1\n",
      "    Name:A\n",
      "    Father's Name:B\n",
      "    Course:C\n",
      "    timing:D\n",
      "    \n",
      "None\n"
     ]
    }
   ],
   "source": [
    "card=id_card(\"1\",\"A\",\"B\",\"C\",\"D\")\n",
    "print(card)"
   ]
  },
  {
   "cell_type": "code",
   "execution_count": null,
   "metadata": {},
   "outputs": [],
   "source": [
    "RETURN FUNCTION"
   ]
  },
  {
   "cell_type": "code",
   "execution_count": 40,
   "metadata": {},
   "outputs": [
    {
     "name": "stdout",
     "output_type": "stream",
     "text": [
      "\n",
      "    PIAIC ISLAMABAD\n",
      "    id:1\n",
      "    Name:ali\n",
      "    Father's Name:hamza\n",
      "    Course:AI\n",
      "    timing:9 to 12\n",
      "    \n",
      "\n",
      "    PIAIC ISLAMABAD\n",
      "    id:2\n",
      "    Name:mubashir\n",
      "    Father's Name:sultan\n",
      "    Course:Aero\n",
      "    timing:3 to 12\n",
      "    \n",
      "\n",
      "    PIAIC ISLAMABAD\n",
      "    id:1\n",
      "    Name:A\n",
      "    Father's Name:B\n",
      "    Course:C\n",
      "    timing:D\n",
      "    \n",
      "\n",
      "    PIAIC ISLAMABAD\n",
      "    id:1\n",
      "    Name:A\n",
      "    Father's Name:B\n",
      "    Course:C\n",
      "    timing:D\n",
      "     qasim ali\n"
     ]
    }
   ],
   "source": [
    "def id_card(sid,sname,fname,course,timing):\n",
    "    text=\"\"\"\n",
    "    PIAIC ISLAMABAD\n",
    "    id:{}\n",
    "    Name:{}\n",
    "    Father's Name:{}\n",
    "    Course:{}\n",
    "    timing:{}\n",
    "    \"\"\".format(sid,sname,fname,course,timing)\n",
    "    print(text)\n",
    "    return text,\"qasim\",\"ali\"     # exit after first return\n",
    "    #return \"qasim\"\n",
    "    #return \"ALI\"\n",
    "\n",
    "id_card(1,\"ali\",\"hamza\",\"AI\",'9 to 12')\n",
    "id_card(2,\"mubashir\",\"sultan\",\"Aero\",\"3 to 12\")\n",
    "print(*id_card(1,\"A\",\"B\",\"C\",\"D\"))\n"
   ]
  },
  {
   "cell_type": "code",
   "execution_count": null,
   "metadata": {},
   "outputs": [],
   "source": [
    "MULTI RETURN ....returns in multi line then it will only return 1st line,,so return a,b,c\n",
    "SINGLE RETURN"
   ]
  },
  {
   "cell_type": "code",
   "execution_count": 41,
   "metadata": {},
   "outputs": [
    {
     "name": "stdout",
     "output_type": "stream",
     "text": [
      "\n",
      "    PIAIC ISLAMABAD\n",
      "    id:1\n",
      "    Name:A\n",
      "    Father's Name:B\n",
      "    Course:C\n",
      "    timing:D\n",
      "    \n",
      "\n",
      "    PIAIC ISLAMABAD\n",
      "    id:1\n",
      "    Name:A\n",
      "    Father's Name:B\n",
      "    Course:C\n",
      "    timing:D\n",
      "     qasim ali [1]\n"
     ]
    }
   ],
   "source": [
    "print(*id_card(1,\"A\",\"B\",\"C\",\"D\"),[1])"
   ]
  },
  {
   "cell_type": "code",
   "execution_count": 43,
   "metadata": {},
   "outputs": [
    {
     "name": "stdout",
     "output_type": "stream",
     "text": [
      "\n",
      "    PIAIC ISLAMABAD\n",
      "    id:33\n",
      "    Name:anie\n",
      "    Father's Name:simba\n",
      "    Course:AI\n",
      "    timing:2 TO 10\n",
      "    \n"
     ]
    },
    {
     "data": {
      "text/plain": [
       "(\"\\n    PIAIC ISLAMABAD\\n    id:33\\n    Name:anie\\n    Father's Name:simba\\n    Course:AI\\n    timing:2 TO 10\\n    \",\n",
       " 'qasim',\n",
       " 'ali')"
      ]
     },
     "execution_count": 43,
     "metadata": {},
     "output_type": "execute_result"
    }
   ],
   "source": [
    "id_card(*(33,\"anie\",\"simba\",\"AI\",\"2 TO 10\"))"
   ]
  },
  {
   "cell_type": "code",
   "execution_count": 44,
   "metadata": {},
   "outputs": [
    {
     "name": "stdout",
     "output_type": "stream",
     "text": [
      "\n",
      "    PIAIC ISLAMABAD\n",
      "    id:33\n",
      "    Name:anie\n",
      "    Father's Name:simba\n",
      "    Course:AI\n",
      "    timing:2 TO 10\n",
      "    \n"
     ]
    },
    {
     "data": {
      "text/plain": [
       "(\"\\n    PIAIC ISLAMABAD\\n    id:33\\n    Name:anie\\n    Father's Name:simba\\n    Course:AI\\n    timing:2 TO 10\\n    \",\n",
       " 'qasim',\n",
       " 'ali')"
      ]
     },
     "execution_count": 44,
     "metadata": {},
     "output_type": "execute_result"
    }
   ],
   "source": [
    "id_card(33,\"anie\",\"simba\",\"AI\",\"2 TO 10\")"
   ]
  },
  {
   "cell_type": "code",
   "execution_count": 45,
   "metadata": {},
   "outputs": [
    {
     "name": "stdout",
     "output_type": "stream",
     "text": [
      "\n",
      "    PIAIC ISLAMABAD\n",
      "    id:33\n",
      "    Name:anie\n",
      "    Father's Name:simba\n",
      "    Course:AI\n",
      "    timing:2 TO 10\n",
      "    \n",
      "\n",
      "    PIAIC ISLAMABAD\n",
      "    id:33\n",
      "    Name:anie\n",
      "    Father's Name:simba\n",
      "    Course:AI\n",
      "    timing:2 TO 10\n",
      "     qasim ali\n"
     ]
    }
   ],
   "source": [
    "print(*id_card(33,\"anie\",\"simba\",\"AI\",\"2 TO 10\"))"
   ]
  },
  {
   "cell_type": "code",
   "execution_count": 47,
   "metadata": {},
   "outputs": [
    {
     "data": {
      "text/plain": [
       "26"
      ]
     },
     "execution_count": 47,
     "metadata": {},
     "output_type": "execute_result"
    }
   ],
   "source": [
    "def abc(x=1,y=1,z=1):\n",
    "    return x+y*z\n",
    "abc(2,4,6)\n"
   ]
  },
  {
   "cell_type": "markdown",
   "metadata": {},
   "source": [
    "# KEYWORD ARGUMENT"
   ]
  },
  {
   "cell_type": "code",
   "execution_count": 60,
   "metadata": {},
   "outputs": [
    {
     "name": "stdout",
     "output_type": "stream",
     "text": [
      "\n",
      "    PIAIC ISLAMABAD\n",
      "    id:mubashir\n",
      "    Name:2\n",
      "    Father's Name:sultan\n",
      "    Course:Aero\n",
      "    timing:3 to 12\n",
      "    \n"
     ]
    }
   ],
   "source": [
    "def id_card(sid,sname,fname,course,timing):\n",
    "    text=\"\"\"\n",
    "    PIAIC ISLAMABAD\n",
    "    id:{}\n",
    "    Name:{}\n",
    "    Father's Name:{}\n",
    "    Course:{}\n",
    "    timing:{}\n",
    "    \"\"\".format(sid,sname,fname,course,timing)\n",
    "    print(text)\n",
    "\n",
    "id_card(\"mubashir\",2,\"sultan\",\"Aero\",\"3 to 12\")                 #problem due to positioning\n",
    "\n"
   ]
  },
  {
   "cell_type": "code",
   "execution_count": 58,
   "metadata": {},
   "outputs": [
    {
     "name": "stdout",
     "output_type": "stream",
     "text": [
      "\n",
      "    PIAIC ISLAMABAD\n",
      "    id:1234\n",
      "    Name:mubashir\n",
      "    Father's Name:sultan\n",
      "    Course:Aero\n",
      "    timing:3 to 12\n",
      "    \n",
      "None\n"
     ]
    }
   ],
   "source": [
    "print(id_card(course=\"Aero\",timing=\"3 to 12\",sid=1234,sname=\"mubashir\",fname=\"sultan\",))"
   ]
  },
  {
   "cell_type": "code",
   "execution_count": 62,
   "metadata": {},
   "outputs": [
    {
     "name": "stdout",
     "output_type": "stream",
     "text": [
      "\n",
      "    PIAIC ISLAMABAD\n",
      "    id:34\n",
      "    Name:qasim\n",
      "    Father's Name:sultan\n",
      "    Course:Aero\n",
      "    timing:3 to 12\n",
      "    \n",
      "None\n"
     ]
    }
   ],
   "source": [
    "print(id_card(34,sname=\"qasim\",course=\"Aero\",timing=\"3 to 12\",fname=\"sultan\"))"
   ]
  },
  {
   "cell_type": "markdown",
   "metadata": {},
   "source": [
    "# ARGUMENT WITH LIST"
   ]
  },
  {
   "cell_type": "code",
   "execution_count": 63,
   "metadata": {},
   "outputs": [
    {
     "name": "stdout",
     "output_type": "stream",
     "text": [
      "\n",
      "    PIAIC ISLAMABAD\n",
      "    id:1\n",
      "    Name:qasim\n",
      "    Father's Name:hassn\n",
      "    Course:AI\n",
      "    timing:2 TO 5\n",
      "    \n",
      "None\n"
     ]
    }
   ],
   "source": [
    "def id_card(sid,sname,fname,course,timing):\n",
    "    text=\"\"\"\n",
    "    PIAIC ISLAMABAD\n",
    "    id:{}\n",
    "    Name:{}\n",
    "    Father's Name:{}\n",
    "    Course:{}\n",
    "    timing:{}\n",
    "    \"\"\".format(sid,sname,fname,course,timing)\n",
    "    print(text)\n",
    "\n",
    "             #problem due to positioning\n",
    "\n",
    "l1=[1,\"qasim\",\"hassn\",\"AI\",\"2 TO 5\"]\n",
    "print(id_card(l1[0],l1[1],l1[2],l1[3],l1[4]))"
   ]
  },
  {
   "cell_type": "code",
   "execution_count": 65,
   "metadata": {},
   "outputs": [
    {
     "name": "stdout",
     "output_type": "stream",
     "text": [
      "1 qasim hassn AI 2 TO 5\n",
      "\n",
      "    PIAIC ISLAMABAD\n",
      "    id:1\n",
      "    Name:qasim\n",
      "    Father's Name:hassn\n",
      "    Course:AI\n",
      "    timing:2 TO 5\n",
      "    \n",
      "None\n"
     ]
    }
   ],
   "source": [
    "print(*l1)\n",
    "print(id_card(*l1))"
   ]
  },
  {
   "cell_type": "markdown",
   "metadata": {},
   "source": [
    "# ARGUMENT WITH DICTIONARY"
   ]
  },
  {
   "cell_type": "code",
   "execution_count": 69,
   "metadata": {},
   "outputs": [
    {
     "name": "stdout",
     "output_type": "stream",
     "text": [
      "\n",
      "    PIAIC ISLAMABAD\n",
      "    id:1\n",
      "    Name:qasim\n",
      "    Father's Name:hassn\n",
      "    Course:AI\n",
      "    timing:2 TO 5\n",
      "    \n",
      "None\n"
     ]
    }
   ],
   "source": [
    "def id_card(sid,sname,fname,course,timing):\n",
    "    text=\"\"\"\n",
    "    PIAIC ISLAMABAD\n",
    "    id:{}\n",
    "    Name:{}\n",
    "    Father's Name:{}\n",
    "    Course:{}\n",
    "    timing:{}\n",
    "    \"\"\".format(sid,sname,fname,course,timing)\n",
    "    print(text)\n",
    "\n",
    "d1={\"sid\":1,\n",
    "    \"sname\":\"qasim\",\n",
    "    \"fname\":\"hassn\",\n",
    "    \"course\":\"AI\",\n",
    "    \"timing\":\"2 TO 5\"}\n",
    "print(id_card(**d1))\n"
   ]
  },
  {
   "cell_type": "code",
   "execution_count": 73,
   "metadata": {},
   "outputs": [],
   "source": [
    "l=list(d1.items())"
   ]
  },
  {
   "cell_type": "code",
   "execution_count": 74,
   "metadata": {},
   "outputs": [
    {
     "data": {
      "text/plain": [
       "[('sid', 1),\n",
       " ('sname', 'qasim'),\n",
       " ('fname', 'hassn'),\n",
       " ('course', 'AI'),\n",
       " ('timing', '2 TO 5')]"
      ]
     },
     "execution_count": 74,
     "metadata": {},
     "output_type": "execute_result"
    }
   ],
   "source": [
    "l"
   ]
  },
  {
   "cell_type": "code",
   "execution_count": 75,
   "metadata": {},
   "outputs": [
    {
     "name": "stdout",
     "output_type": "stream",
     "text": [
      "\n",
      "    PIAIC ISLAMABAD\n",
      "    id:('sid', 1)\n",
      "    Name:('sname', 'qasim')\n",
      "    Father's Name:('fname', 'hassn')\n",
      "    Course:('course', 'AI')\n",
      "    timing:('timing', '2 TO 5')\n",
      "    \n",
      "None\n"
     ]
    }
   ],
   "source": [
    "print(id_card(*l))"
   ]
  },
  {
   "cell_type": "markdown",
   "metadata": {},
   "source": [
    "# RECURSIVE FUNCTIONS"
   ]
  },
  {
   "cell_type": "code",
   "execution_count": 76,
   "metadata": {},
   "outputs": [
    {
     "data": {
      "text/plain": [
       "120"
      ]
     },
     "execution_count": 76,
     "metadata": {},
     "output_type": "execute_result"
    }
   ],
   "source": [
    "def abc(n):\n",
    "    if n==1:\n",
    "        return 1\n",
    "    return n * abc(n-1)\n",
    "abc(5)"
   ]
  },
  {
   "cell_type": "markdown",
   "metadata": {},
   "source": [
    "# GENARATOR FUNCTIONS"
   ]
  },
  {
   "cell_type": "code",
   "execution_count": null,
   "metadata": {},
   "outputs": [],
   "source": [
    "1)ITERATABLE\n",
    "2)REMMEMBERS PAST VALUE\n",
    "3)DOESNT ALLOACATE VALUES IN MEMORY"
   ]
  },
  {
   "cell_type": "code",
   "execution_count": 80,
   "metadata": {},
   "outputs": [
    {
     "name": "stdout",
     "output_type": "stream",
     "text": [
      "<generator object abc at 0x0000022F6ECA64F8>\n",
      "0\n",
      "1\n",
      "2\n",
      "[3, 4, 5, 6, 7, 8, 9, 10]\n"
     ]
    }
   ],
   "source": [
    "def abc():\n",
    "    for i in range(11):\n",
    "        yield i                      #one by one genrate and return value\n",
    "a=abc()                              #efficient memory utilization\n",
    "print(a)\n",
    "print(next(a))\n",
    "print(next(a))\n",
    "print(next(a))\n",
    "print(list(a))"
   ]
  },
  {
   "cell_type": "markdown",
   "metadata": {},
   "source": [
    "# LAMBDA FUNCTIONS"
   ]
  },
  {
   "cell_type": "code",
   "execution_count": 82,
   "metadata": {},
   "outputs": [
    {
     "data": {
      "text/plain": [
       "8"
      ]
     },
     "execution_count": 82,
     "metadata": {},
     "output_type": "execute_result"
    }
   ],
   "source": [
    "def abc(x,y):\n",
    "    return x+y\n",
    "abc(2,6)"
   ]
  },
  {
   "cell_type": "code",
   "execution_count": 84,
   "metadata": {},
   "outputs": [
    {
     "data": {
      "text/plain": [
       "4"
      ]
     },
     "execution_count": 84,
     "metadata": {},
     "output_type": "execute_result"
    }
   ],
   "source": [
    "p = lambda x,y:x+y\n",
    "p(2,2)"
   ]
  },
  {
   "cell_type": "code",
   "execution_count": 1,
   "metadata": {},
   "outputs": [
    {
     "data": {
      "text/plain": [
       "False"
      ]
     },
     "execution_count": 1,
     "metadata": {},
     "output_type": "execute_result"
    }
   ],
   "source": [
    "z=lambda x,y:x>y\n",
    "z(2,3)"
   ]
  },
  {
   "cell_type": "code",
   "execution_count": null,
   "metadata": {},
   "outputs": [],
   "source": []
  }
 ],
 "metadata": {
  "kernelspec": {
   "display_name": "Python 3",
   "language": "python",
   "name": "python3"
  },
  "language_info": {
   "codemirror_mode": {
    "name": "ipython",
    "version": 3
   },
   "file_extension": ".py",
   "mimetype": "text/x-python",
   "name": "python",
   "nbconvert_exporter": "python",
   "pygments_lexer": "ipython3",
   "version": "3.7.3"
  }
 },
 "nbformat": 4,
 "nbformat_minor": 2
}
