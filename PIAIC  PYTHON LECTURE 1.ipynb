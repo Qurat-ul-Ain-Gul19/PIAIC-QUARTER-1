{
 "cells": [
  {
   "cell_type": "markdown",
   "metadata": {},
   "source": [
    "# PIAIC ISLAMABAD CLASS 1\n"
   ]
  },
  {
   "cell_type": "markdown",
   "metadata": {},
   "source": [
    "My first python program in piaic class."
   ]
  },
  {
   "cell_type": "code",
   "execution_count": 4,
   "metadata": {},
   "outputs": [
    {
     "name": "stdout",
     "output_type": "stream",
     "text": [
      "hello world\n"
     ]
    }
   ],
   "source": [
    "print(\"hello world\")"
   ]
  },
  {
   "cell_type": "code",
   "execution_count": 2,
   "metadata": {},
   "outputs": [
    {
     "name": "stdout",
     "output_type": "stream",
     "text": [
      "pakistan zinda bad\n"
     ]
    }
   ],
   "source": [
    "print(\"pakistan zinda bad\")"
   ]
  },
  {
   "cell_type": "code",
   "execution_count": 11,
   "metadata": {},
   "outputs": [
    {
     "name": "stdout",
     "output_type": "stream",
     "text": [
      "\n",
      "PIAIC ISLAMABAD BTACH3\n",
      "Name:simba\n",
      "Father:GULZEB AKHTAR\n",
      "University:BAHRIA UNIVERSITY\n",
      "\n"
     ]
    }
   ],
   "source": [
    "Name = \"QUART-UL-AIN\"\n",
    "Name = \"simba\"\n",
    "Father = \"GULZEB AKHTAR\"\n",
    "University = \"BAHRIA UNIVERSITY\"\n",
    "message=\"\"\"\n",
    "PIAIC ISLAMABAD BTACH3\n",
    "Name:{}\n",
    "Father:{}\n",
    "University:{}\n",
    "\"\"\".format(Name,Father,University)\n",
    "print(message)\n"
   ]
  },
  {
   "cell_type": "code",
   "execution_count": 11,
   "metadata": {},
   "outputs": [
    {
     "name": "stdout",
     "output_type": "stream",
     "text": [
      "enter your name: qasim\n",
      "enter your father name: gulzeb\n",
      "enter your class: 12\n",
      "enter your age: 15\n",
      "\n",
      "UNIVERSITY:UNIVERSITY INSTITUTE OF INFORMATION TECHNOLOGY , ISLAMABAD\n",
      "Name:qasim\n",
      "Class:gulzeb\n",
      "Father:12\n",
      "Age:15\n",
      "\n",
      "\n"
     ]
    }
   ],
   "source": [
    "UNIVERSITY = \"UNIVERSITY INSTITUTE OF INFORMATION TECHNOLOGY , ISLAMABAD\"\n",
    "Name = input(\"enter your name: \")\n",
    "Father = (input(\"enter your father name: \"))\n",
    "Class = int(input(\"enter your class: \"))\n",
    "Age = int(input(\"enter your age: \"))\n",
    "x=\"\"\"\n",
    "UNIVERSITY:{}\n",
    "Name:{}\n",
    "Class:{}\n",
    "Father:{}\n",
    "Age:{}\n",
    "\n",
    "\"\"\".format(UNIVERSITY,Name,Father,Class,Age)\n",
    "print(x)\n",
    "                    "
   ]
  },
  {
   "cell_type": "code",
   "execution_count": null,
   "metadata": {},
   "outputs": [],
   "source": []
  }
 ],
 "metadata": {
  "kernelspec": {
   "display_name": "Python 3",
   "language": "python",
   "name": "python3"
  },
  "language_info": {
   "codemirror_mode": {
    "name": "ipython",
    "version": 3
   },
   "file_extension": ".py",
   "mimetype": "text/x-python",
   "name": "python",
   "nbconvert_exporter": "python",
   "pygments_lexer": "ipython3",
   "version": "3.7.3"
  }
 },
 "nbformat": 4,
 "nbformat_minor": 2
}
